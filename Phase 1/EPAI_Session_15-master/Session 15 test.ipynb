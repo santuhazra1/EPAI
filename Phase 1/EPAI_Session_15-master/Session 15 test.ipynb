{
 "cells": [
  {
   "cell_type": "markdown",
   "metadata": {},
   "source": [
    "### Import library"
   ]
  },
  {
   "cell_type": "code",
   "execution_count": 1,
   "metadata": {},
   "outputs": [],
   "source": [
    "from collections import namedtuple\n",
    "from datetime import datetime"
   ]
  },
  {
   "cell_type": "markdown",
   "metadata": {},
   "source": [
    "### Main Function"
   ]
  },
  {
   "cell_type": "code",
   "execution_count": 2,
   "metadata": {},
   "outputs": [],
   "source": [
    "def read_csv(file_name):\n",
    "    '''This function takes a csv file name and creates an iterator for reading the data'''\n",
    "    data_types = ['INT', 'STRING', 'STRING', 'STRING', 'DATE', 'INT', 'STRING', 'STRING', 'STRING']\n",
    "\n",
    "    def cast(data_type, value):\n",
    "        '''This function changes the data format to required format'''\n",
    "        if data_type == 'DOUBLE':\n",
    "            return float(value)\n",
    "        elif data_type == 'DATE':\n",
    "            if '/' in value:\n",
    "                return datetime.strptime(value, '%m/%d/%Y')\n",
    "            else:\n",
    "                return datetime.strptime(value, '%m-%d-%Y')\n",
    "        elif data_type == 'INT':\n",
    "            return int(value)\n",
    "        else:\n",
    "            return str(value)\n",
    "\n",
    "    def cast_row(data_types, data_row):\n",
    "        '''This function changes the data format of the whole record to required format'''\n",
    "        return [cast(data_type, value) \n",
    "                for data_type, value in zip(data_types, data_row)]\n",
    "    with open(file_name) as file:\n",
    "        Car = namedtuple('Car', next(iter(file)).strip('\\n').replace(' ','_').split(','))\n",
    "        for line in iter(file):\n",
    "            yield Car(*cast_row(data_types,line.strip('\\n').split(',')))"
   ]
  },
  {
   "cell_type": "code",
   "execution_count": 3,
   "metadata": {},
   "outputs": [],
   "source": [
    "cars = read_csv('nyc_parking_tickets_extract-1.csv')"
   ]
  },
  {
   "cell_type": "code",
   "execution_count": 4,
   "metadata": {},
   "outputs": [],
   "source": [
    "counter_dict = dict()\n",
    "for car in cars:\n",
    "    if not(car.Vehicle_Make in counter_dict.keys()):\n",
    "        counter_dict[car.Vehicle_Make] = 0\n",
    "    counter_dict[car.Vehicle_Make] += 1"
   ]
  },
  {
   "cell_type": "code",
   "execution_count": 5,
   "metadata": {},
   "outputs": [
    {
     "name": "stdout",
     "output_type": "stream",
     "text": [
      "{'BMW': 34, 'CHEVR': 76, 'DODGE': 45, 'FORD': 104, 'FRUEH': 44, 'HONDA': 106, 'LINCO': 12, 'TOYOT': 112, 'CADIL': 9, 'CHRYS': 12, 'FIR': 1, 'GMC': 35, 'HYUND': 35, 'JAGUA': 3, 'JEEP': 22, 'LEXUS': 26, 'ME/BE': 38, 'MERCU': 4, 'MITSU': 11, 'NISSA': 70, 'HIN': 6, 'NS/OT': 18, 'WORKH': 2, 'ACURA': 12, 'AUDI': 12, 'INTER': 25, 'ISUZU': 10, 'KENWO': 5, 'KIA': 8, 'OLDSM': 1, 'SUBAR': 18, 'VOLVO': 12, 'SATUR': 2, 'SMART': 3, 'INFIN': 13, 'PETER': 1, '': 5, 'CITRO': 1, 'ROVER': 5, 'BUICK': 5, 'GEO': 1, 'MAZDA': 5, 'PORSC': 3, 'VOLKS': 8, 'YAMAH': 1, 'BSA': 1, 'MINI': 1, 'PONTI': 1, 'SPRI': 1, 'PLYMO': 1, 'SCION': 2, 'UPS': 1, 'FIAT': 1, 'UD': 1, 'UTILI': 1, 'GMCQ': 1, 'SAAB': 2, 'HINO': 2, 'STAR': 1, 'AM/T': 1, 'MI/F': 1}\n"
     ]
    }
   ],
   "source": [
    "print(counter_dict)"
   ]
  }
 ],
 "metadata": {
  "kernelspec": {
   "display_name": "Python 3",
   "language": "python",
   "name": "python3"
  },
  "language_info": {
   "codemirror_mode": {
    "name": "ipython",
    "version": 3
   },
   "file_extension": ".py",
   "mimetype": "text/x-python",
   "name": "python",
   "nbconvert_exporter": "python",
   "pygments_lexer": "ipython3",
   "version": "3.7.4"
  }
 },
 "nbformat": 4,
 "nbformat_minor": 2
}

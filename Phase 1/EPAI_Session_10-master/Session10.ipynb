{
  "nbformat": 4,
  "nbformat_minor": 0,
  "metadata": {
    "colab": {
      "name": "Session10.ipynb",
      "provenance": [],
      "collapsed_sections": []
    },
    "kernelspec": {
      "name": "python3",
      "display_name": "Python 3"
    }
  },
  "cells": [
    {
      "cell_type": "markdown",
      "metadata": {
        "id": "oXniAXhBguNg"
      },
      "source": [
        "#### Let's install faker library"
      ]
    },
    {
      "cell_type": "code",
      "metadata": {
        "id": "ZwX_Gn2aJ4w9"
      },
      "source": [
        "!pip install faker"
      ],
      "execution_count": null,
      "outputs": []
    },
    {
      "cell_type": "markdown",
      "metadata": {
        "id": "yz3gL57mg0xM"
      },
      "source": [
        "#### import all the required packages"
      ]
    },
    {
      "cell_type": "code",
      "metadata": {
        "id": "OWMtgfyfeuyq"
      },
      "source": [
        "from faker import Faker\n",
        "from collections import namedtuple\n",
        "import datetime\n",
        "import random, time\n",
        "fake = Faker()"
      ],
      "execution_count": null,
      "outputs": []
    },
    {
      "cell_type": "markdown",
      "metadata": {
        "id": "Krk6ckKSg_0s"
      },
      "source": [
        "### For question no 1 first let's create our namedtuple"
      ]
    },
    {
      "cell_type": "code",
      "metadata": {
        "id": "D1DKd0G9ivpN"
      },
      "source": [
        "profile = namedtuple('profile',fake.profile().keys())"
      ],
      "execution_count": 475,
      "outputs": []
    },
    {
      "cell_type": "code",
      "metadata": {
        "id": "qODcqEx2gVWf"
      },
      "source": [
        "def create_fake_profile(n):\n",
        "    profile = namedtuple('profile',fake.profile().keys())\n",
        "    return tuple([profile(**fake.profile()) for i in range(n)])\n"
      ],
      "execution_count": 476,
      "outputs": []
    },
    {
      "cell_type": "markdown",
      "metadata": {
        "id": "kquvxdY8ibnk"
      },
      "source": [
        "#### I have tried to create namedtuple of namedtuples but I saw that namedtuple can take only 255 arguments thats why I proceeded with creating tuple of namedtuples"
      ]
    },
    {
      "cell_type": "code",
      "metadata": {
        "id": "fUB4f2V2hLsI"
      },
      "source": [
        "fake_profile = create_fake_profile(10000)"
      ],
      "execution_count": 483,
      "outputs": []
    },
    {
      "cell_type": "markdown",
      "metadata": {
        "id": "wS422BFRhf2b"
      },
      "source": [
        "#### After creating our 10000 fake profiles let's create a frequence of blood group[ dictionary and from there we can get max frequency of which blood group"
      ]
    },
    {
      "cell_type": "code",
      "metadata": {
        "id": "VZCpji-nk3yC",
        "outputId": "14454283-a3b3-467c-f01c-31da0fecb029",
        "colab": {
          "base_uri": "https://localhost:8080/",
          "height": 51
        }
      },
      "source": [
        "def largest_blood_type(f_profile):\n",
        "  blood_freq = dict()\n",
        "  blood_grp_list = [profile.blood_group for profile in f_profile]\n",
        "  {w: 1 if w not in blood_freq and not blood_freq.update({w: 1}) else blood_freq[w] + 1 if not blood_freq.update({w: blood_freq[w] + 1}) else 1 for w in blood_grp_list}\n",
        "  return blood_freq, list(blood_freq.keys())[list(blood_freq.values()).index(max(blood_freq.values()))]\n",
        "blood_freq, max_blood_grp = largest_blood_type(fake_profile)\n",
        "print(blood_freq)\n",
        "print(max_blood_grp)"
      ],
      "execution_count": 477,
      "outputs": [
        {
          "output_type": "stream",
          "text": [
            "{'A+': 1254, 'O-': 1266, 'O+': 1225, 'AB+': 1241, 'B+': 1218, 'AB-': 1238, 'B-': 1261, 'A-': 1297}\n",
            "A-\n"
          ],
          "name": "stdout"
        }
      ]
    },
    {
      "cell_type": "markdown",
      "metadata": {
        "id": "uk7NYIAZh1Pd"
      },
      "source": [
        "#### Now from location of all profiles we will calculate mean location of all location"
      ]
    },
    {
      "cell_type": "code",
      "metadata": {
        "id": "2udLpXizBszN",
        "outputId": "cceb72b1-1116-4514-aaf1-88331eb70274",
        "colab": {
          "base_uri": "https://localhost:8080/",
          "height": 34
        }
      },
      "source": [
        "def mean_loc(f_profile, n):\n",
        "  return sum([profile.current_location[0] for profile in f_profile])/n,sum([profile.current_location[1] for profile in f_profile])/n\n",
        "loc = mean_loc(fake_profile, 10000)\n",
        "print(loc)"
      ],
      "execution_count": 478,
      "outputs": [
        {
          "output_type": "stream",
          "text": [
            "(Decimal('-0.6416528696'), Decimal('-0.1882050778'))\n"
          ],
          "name": "stdout"
        }
      ]
    },
    {
      "cell_type": "markdown",
      "metadata": {
        "id": "8FahP69YiA11"
      },
      "source": [
        "#### Finally we are going to calculate amx age and avg age of all profiles"
      ]
    },
    {
      "cell_type": "code",
      "metadata": {
        "id": "QsLliEiIJ7WA",
        "outputId": "5b8691ee-e56c-4ad2-cd4a-b1a88f5a77c2",
        "colab": {
          "base_uri": "https://localhost:8080/",
          "height": 51
        }
      },
      "source": [
        "all_age = [(datetime.datetime.today().date() - profile.birthdate).days for profile in fake_profile]\n",
        "print(max(all_age))\n",
        "print(sum(all_age)/10000)"
      ],
      "execution_count": 481,
      "outputs": [
        {
          "output_type": "stream",
          "text": [
            "42366\n",
            "21312.6039\n"
          ],
          "name": "stdout"
        }
      ]
    },
    {
      "cell_type": "markdown",
      "metadata": {
        "id": "qkaDj3M7iI8N"
      },
      "source": [
        "### for question no 2 we are going to implement the above same exercize in list of dictionary."
      ]
    },
    {
      "cell_type": "code",
      "metadata": {
        "id": "kU9gMpVneqqH"
      },
      "source": [
        "def dict_profile(n):\n",
        "\n",
        "  f_profile = [fake.profile() for i in range(n)]\n",
        "  \n",
        "  blood_freq = dict()\n",
        "  blood_grp_list = [profile['blood_group'] for profile in f_profile]\n",
        "  {w: 1 if w not in blood_freq and not blood_freq.update({w: 1}) else blood_freq[w] + 1 if not blood_freq.update({w: blood_freq[w] + 1})\\\n",
        "   else 1 for w in blood_grp_list}\n",
        "  max_blood_grp_count = list(blood_freq.keys())[list(blood_freq.values()).index(max(blood_freq.values()))]\n",
        "\n",
        "  mean_loc = sum([profile['current_location'][0] for profile in f_profile])/n,sum([profile['current_location'][1] for profile in f_profile])/n\n",
        "\n",
        "  all_age = [(datetime.datetime.today().date() - profile['birthdate']).days for profile in f_profile]\n",
        "\n",
        "  max_age = max(all_age)\n",
        "\n",
        "  avg_age = sum(all_age)/n\n",
        "\n",
        "  return max_blood_grp_count, mean_loc, max_age, avg_age"
      ],
      "execution_count": 466,
      "outputs": []
    },
    {
      "cell_type": "code",
      "metadata": {
        "id": "Kp0x-BS-gKTu",
        "outputId": "757d057c-d491-4684-8549-f1c26138ba48",
        "colab": {
          "base_uri": "https://localhost:8080/",
          "height": 34
        }
      },
      "source": [
        "start2 = time.perf_counter()\n",
        "for i in range(2):\n",
        "  _,_,_,_ = dict_profile(10000)\n",
        "end2 = time.perf_counter()\n",
        "delta2 = end2-start2\n",
        "print(delta2)"
      ],
      "execution_count": 472,
      "outputs": [
        {
          "output_type": "stream",
          "text": [
            "38.2584211689973\n"
          ],
          "name": "stdout"
        }
      ]
    },
    {
      "cell_type": "markdown",
      "metadata": {
        "id": "JNqjC9EXi8Sn"
      },
      "source": [
        "#### After implementing in dictionary we also checked the time taked by it and we saw that dictionary is taking around 38.2584 sec"
      ]
    },
    {
      "cell_type": "code",
      "metadata": {
        "id": "QeaXP1-jTfKB"
      },
      "source": [
        "def namedtuple_profile(n):\n",
        "\n",
        "  profile = namedtuple('profile',fake.profile().keys())\n",
        "  f_profile = tuple([profile(**fake.profile()) for i in range(n)])\n",
        "\n",
        "  blood_freq = dict()\n",
        "  blood_grp_list = [profile.blood_group for profile in f_profile]\n",
        "  {w: 1 if w not in blood_freq and not blood_freq.update({w: 1}) else blood_freq[w] + 1 if not blood_freq.update({w: blood_freq[w] + 1})\\\n",
        "   else 1 for w in blood_grp_list}\n",
        "  max_blood_grp_count = list(blood_freq.keys())[list(blood_freq.values()).index(max(blood_freq.values()))]\n",
        "\n",
        "  mean_loc = sum([profile.current_location[0] for profile in f_profile])/n,sum([profile.current_location[1] for profile in f_profile])/n\n",
        "\n",
        "  all_age = [(datetime.datetime.today().date() - profile.birthdate).days for profile in f_profile]\n",
        "\n",
        "  max_age = max([(datetime.datetime.today().date() - profile.birthdate).days for profile in f_profile])\n",
        "\n",
        "  avg_age = sum(all_age)/n\n",
        "\n",
        "  return max_blood_grp_count, mean_loc, max_age, avg_age"
      ],
      "execution_count": 463,
      "outputs": []
    },
    {
      "cell_type": "code",
      "metadata": {
        "id": "4tdiT7J-TfQY",
        "outputId": "72ea1b5a-0ad7-4678-9e5b-9290af9ef2a0",
        "colab": {
          "base_uri": "https://localhost:8080/",
          "height": 34
        }
      },
      "source": [
        "start1 = time.perf_counter()\n",
        "for i in range(2):\n",
        "  _,_,_,_ = namedtuple_profile(10000)\n",
        "end1 = time.perf_counter()\n",
        "delta1 = end1-start1\n",
        "print(delta1)"
      ],
      "execution_count": 473,
      "outputs": [
        {
          "output_type": "stream",
          "text": [
            "38.25425250000262\n"
          ],
          "name": "stdout"
        }
      ]
    },
    {
      "cell_type": "code",
      "metadata": {
        "id": "lw4WhuWbjpIh",
        "outputId": "f60e4638-a94e-400e-eedf-9b393303311a",
        "colab": {
          "base_uri": "https://localhost:8080/",
          "height": 34
        }
      },
      "source": [
        "delta2-delta1>0"
      ],
      "execution_count": 485,
      "outputs": [
        {
          "output_type": "execute_result",
          "data": {
            "text/plain": [
              "True"
            ]
          },
          "metadata": {
            "tags": []
          },
          "execution_count": 485
        }
      ]
    },
    {
      "cell_type": "markdown",
      "metadata": {
        "id": "XyBmel9GjPRX"
      },
      "source": [
        "#### After checking the same with named tuple we saw that named tuple is performing little bit better as it is taking around 38.2542 sec. So, we can say that namedtuple is performing little bit better than dictionary"
      ]
    },
    {
      "cell_type": "code",
      "metadata": {
        "id": "RJ6ya-OBTfEw"
      },
      "source": [
        ""
      ],
      "execution_count": null,
      "outputs": []
    },
    {
      "cell_type": "markdown",
      "metadata": {
        "id": "uDK0L9vFjwqo"
      },
      "source": [
        "#### For the 3rd assignment we have created namedtuples of namedtuple of 100 fake companies. Here below we have only used named tuples."
      ]
    },
    {
      "cell_type": "code",
      "metadata": {
        "id": "WBLll_24y_zT"
      },
      "source": [
        "company = namedtuple('company','company_name symbol open high close')\n",
        "\n",
        "def create_company_tuple():\n",
        "\n",
        "    company_name = fake.company()\n",
        "\n",
        "    symbol = company_name[0:4].upper()\n",
        "\n",
        "    open = random.randint(10,4000)\n",
        "\n",
        "    high = int(open * random.uniform(.9,1.1))\n",
        "\n",
        "    close = int(high * random.uniform(0.9,1))\n",
        "\n",
        "    return company(company_name,symbol,open,high,close)"
      ],
      "execution_count": 405,
      "outputs": []
    },
    {
      "cell_type": "code",
      "metadata": {
        "id": "2VZdr3t92FaY"
      },
      "source": [
        "company_tuple = namedtuple('company_tuple',list(range(100)),rename=True)"
      ],
      "execution_count": 406,
      "outputs": []
    },
    {
      "cell_type": "markdown",
      "metadata": {
        "id": "yO50qxCSkGft"
      },
      "source": [
        "#### Since we have to assign some weight to them for that we have created a named tuple of normalized weights and assigned each company one weight"
      ]
    },
    {
      "cell_type": "code",
      "metadata": {
        "id": "_FqLloLLKawc",
        "outputId": "45a2c778-455b-421d-eadc-0004039e1780",
        "colab": {
          "base_uri": "https://localhost:8080/",
          "height": 54
        }
      },
      "source": [
        "weight_list = [round(random.uniform(0,1),2) for i in range(100)]\n",
        "weight = namedtuple('weight',list(range(100)),rename=True)\n",
        "normalized_weight = weight._make([i/sum(weight_list)for i in weight_list])\n",
        "print(normalized_weight)"
      ],
      "execution_count": 408,
      "outputs": [
        {
          "output_type": "stream",
          "text": [
            "weight(_0=0.014925373134328358, _1=0.003383084577114428, _2=0.0029850746268656717, _3=0.015522388059701494, _4=0.0053731343283582094, _5=0.010945273631840797, _6=0.009353233830845771, _7=0.005970149253731343, _8=0.01671641791044776, _9=0.011144278606965175, _10=0.004776119402985075, _11=0.011144278606965175, _12=0.011343283582089551, _13=0.0021890547263681594, _14=0.01691542288557214, _15=0.014129353233830844, _16=0.007562189054726368, _17=0.009154228855721393, _18=0.006965174129353233, _19=0.012338308457711443, _20=0.005970149253731343, _21=0.003383084577114428, _22=0.012736318407960199, _23=0.0191044776119403, _24=0.017114427860696516, _25=0.00955223880597015, _26=0.01592039800995025, _27=0.0025870646766169153, _28=0.010149253731343283, _29=0.01671641791044776, _30=0.004378109452736319, _31=0.011144278606965175, _32=0.008557213930348258, _33=0.015323383084577116, _34=0.011542288557213929, _35=0.018706467661691543, _36=0.01592039800995025, _37=0.01572139303482587, _38=0.01671641791044776, _39=0.012935323383084578, _40=0.00955223880597015, _41=0.013731343283582088, _42=0.008557213930348258, _43=0.013134328358208956, _44=0.016517412935323383, _45=0.0013930348258706469, _46=0.004378109452736319, _47=0.006766169154228856, _48=0.0031840796019900496, _49=0.016318407960199004, _50=0.0005970149253731343, _51=0.00736318407960199, _52=0.010547263681592041, _53=0.006567164179104478, _54=0.007562189054726368, _55=0.016119402985074627, _56=0.011741293532338307, _57=0.004776119402985075, _58=0.0013930348258706469, _59=0.001791044776119403, _60=0.013333333333333334, _61=0.0015920398009950248, _62=0.008159203980099502, _63=0.0023880597014925373, _64=0.005174129353233831, _65=0.00736318407960199, _66=0.004776119402985075, _67=0.011542288557213929, _68=0.006169154228855721, _69=0.0029850746268656717, _70=0.014328358208955224, _71=0.016517412935323383, _72=0.0013930348258706469, _73=0.0005970149253731343, _74=0.013333333333333334, _75=0.008159203980099502, _76=0.016517412935323383, _77=0.0, _78=0.003781094527363184, _79=0.017114427860696516, _80=0.011542288557213929, _81=0.010547263681592041, _82=0.01472636815920398, _83=0.017512437810945275, _84=0.0191044776119403, _85=0.018507462686567167, _86=0.014925373134328358, _87=0.009950248756218905, _88=0.0053731343283582094, _89=0.006766169154228856, _90=0.016517412935323383, _91=0.0013930348258706469, _92=0.014129353233830844, _93=0.006965174129353233, _94=0.006567164179104478, _95=0.007960199004975126, _96=0.011741293532338307, _97=0.01592039800995025, _98=0.016318407960199004, _99=0.019303482587064675)\n"
          ],
          "name": "stdout"
        }
      ]
    },
    {
      "cell_type": "markdown",
      "metadata": {
        "id": "VmPwi2ickiMt"
      },
      "source": [
        "#### With the above mentioned weights we are going to create one more modified named tuple and create our final company list with normalized weight"
      ]
    },
    {
      "cell_type": "code",
      "metadata": {
        "id": "6P0xgSjVKeFG",
        "outputId": "87c9950a-2cfa-45ea-b8cd-9df068747440",
        "colab": {
          "base_uri": "https://localhost:8080/",
          "height": 54
        }
      },
      "source": [
        "stock = namedtuple('stock',company._fields + ('stock_weight',))\n",
        "ct = company_tuple._make([stock(*create_company_tuple(),normalized_weight[i]) for i in range(100)])\n",
        "print(ct)"
      ],
      "execution_count": 411,
      "outputs": [
        {
          "output_type": "stream",
          "text": [
            "company_tuple(_0=stock(company_name='Morris Group', symbol='MORR', open=816, high=790, close=781, stock_weight=0.014925373134328358), _1=stock(company_name='Stone, Thomas and Estes', symbol='STON', open=2951, high=2715, close=2698, stock_weight=0.003383084577114428), _2=stock(company_name='Hudson, Lee and Reese', symbol='HUDS', open=2293, high=2223, close=2185, stock_weight=0.0029850746268656717), _3=stock(company_name='Miller, Saunders and Morrow', symbol='MILL', open=1688, high=1770, close=1712, stock_weight=0.015522388059701494), _4=stock(company_name='Landry-Oconnor', symbol='LAND', open=544, high=592, close=566, stock_weight=0.0053731343283582094), _5=stock(company_name='Stewart, Peters and Daniels', symbol='STEW', open=2708, high=2614, close=2500, stock_weight=0.010945273631840797), _6=stock(company_name='Craig-Cole', symbol='CRAI', open=787, high=765, close=703, stock_weight=0.009353233830845771), _7=stock(company_name='Scott-Newman', symbol='SCOT', open=2858, high=3135, close=3120, stock_weight=0.005970149253731343), _8=stock(company_name='Prince, Wilson and Wolfe', symbol='PRIN', open=1504, high=1613, close=1493, stock_weight=0.01671641791044776), _9=stock(company_name='Webb, Stanley and Russell', symbol='WEBB', open=858, high=908, close=890, stock_weight=0.011144278606965175), _10=stock(company_name='Miller-Price', symbol='MILL', open=860, high=775, close=755, stock_weight=0.004776119402985075), _11=stock(company_name='Huang, Soto and Berger', symbol='HUAN', open=3407, high=3438, close=3223, stock_weight=0.011144278606965175), _12=stock(company_name='Galvan, Anderson and Edwards', symbol='GALV', open=1712, high=1739, close=1587, stock_weight=0.011343283582089551), _13=stock(company_name='Johnson PLC', symbol='JOHN', open=2688, high=2845, close=2654, stock_weight=0.0021890547263681594), _14=stock(company_name='Martin, Mills and Sanchez', symbol='MART', open=1303, high=1235, close=1137, stock_weight=0.01691542288557214), _15=stock(company_name='Castaneda, Robinson and Scott', symbol='CAST', open=1406, high=1326, close=1203, stock_weight=0.014129353233830844), _16=stock(company_name='Gonzalez-Smith', symbol='GONZ', open=2803, high=2740, close=2710, stock_weight=0.007562189054726368), _17=stock(company_name='Rice LLC', symbol='RICE', open=3416, high=3481, close=3455, stock_weight=0.009154228855721393), _18=stock(company_name='Rivas-Moore', symbol='RIVA', open=646, high=702, close=686, stock_weight=0.006965174129353233), _19=stock(company_name='Campbell-Mitchell', symbol='CAMP', open=2164, high=2290, close=2134, stock_weight=0.012338308457711443), _20=stock(company_name='Simmons-Fernandez', symbol='SIMM', open=3765, high=3491, close=3263, stock_weight=0.005970149253731343), _21=stock(company_name='Yates-Lara', symbol='YATE', open=3523, high=3689, close=3568, stock_weight=0.003383084577114428), _22=stock(company_name='Stewart, Hughes and Key', symbol='STEW', open=1690, high=1734, close=1711, stock_weight=0.012736318407960199), _23=stock(company_name='Bailey, Huff and Smith', symbol='BAIL', open=2258, high=2382, close=2282, stock_weight=0.0191044776119403), _24=stock(company_name='House Group', symbol='HOUS', open=3779, high=3763, close=3730, stock_weight=0.017114427860696516), _25=stock(company_name='Kirby-Lee', symbol='KIRB', open=304, high=309, close=299, stock_weight=0.00955223880597015), _26=stock(company_name='Clark Inc', symbol='CLAR', open=1160, high=1213, close=1191, stock_weight=0.01592039800995025), _27=stock(company_name='Cooper Inc', symbol='COOP', open=2749, high=2665, close=2471, stock_weight=0.0025870646766169153), _28=stock(company_name='Kelley-Adams', symbol='KELL', open=212, high=220, close=209, stock_weight=0.010149253731343283), _29=stock(company_name='Ramsey PLC', symbol='RAMS', open=2920, high=2637, close=2628, stock_weight=0.01671641791044776), _30=stock(company_name='Richardson-Ibarra', symbol='RICH', open=2624, high=2678, close=2540, stock_weight=0.004378109452736319), _31=stock(company_name='Henson Ltd', symbol='HENS', open=3846, high=3792, close=3703, stock_weight=0.011144278606965175), _32=stock(company_name='Garcia, Lindsey and Jones', symbol='GARC', open=3940, high=4228, close=3896, stock_weight=0.008557213930348258), _33=stock(company_name='Ellis-Orr', symbol='ELLI', open=3370, high=3085, close=2959, stock_weight=0.015323383084577116), _34=stock(company_name='Adams-Ingram', symbol='ADAM', open=631, high=596, close=556, stock_weight=0.011542288557213929), _35=stock(company_name='White Ltd', symbol='WHIT', open=2282, high=2058, close=1936, stock_weight=0.018706467661691543), _36=stock(company_name='Perry Inc', symbol='PERR', open=1668, high=1510, close=1495, stock_weight=0.01592039800995025), _37=stock(company_name='Mckee Inc', symbol='MCKE', open=3600, high=3318, close=3083, stock_weight=0.01572139303482587), _38=stock(company_name='Galvan-Gonzales', symbol='GALV', open=457, high=458, close=451, stock_weight=0.01671641791044776), _39=stock(company_name='Stone-Mcclain', symbol='STON', open=2087, high=2276, close=2217, stock_weight=0.012935323383084578), _40=stock(company_name='Williams, Gonzalez and Howe', symbol='WILL', open=3749, high=3985, close=3966, stock_weight=0.00955223880597015), _41=stock(company_name='House Inc', symbol='HOUS', open=582, high=546, close=543, stock_weight=0.013731343283582088), _42=stock(company_name='Santiago, King and Powers', symbol='SANT', open=1868, high=1854, close=1672, stock_weight=0.008557213930348258), _43=stock(company_name='Flores-Rowland', symbol='FLOR', open=822, high=806, close=745, stock_weight=0.013134328358208956), _44=stock(company_name='Andrews and Sons', symbol='ANDR', open=2695, high=2641, close=2458, stock_weight=0.016517412935323383), _45=stock(company_name='Gutierrez, Boyd and Huff', symbol='GUTI', open=2413, high=2330, close=2213, stock_weight=0.0013930348258706469), _46=stock(company_name='Garrett-Jacobs', symbol='GARR', open=970, high=993, close=910, stock_weight=0.004378109452736319), _47=stock(company_name='Gomez Inc', symbol='GOME', open=256, high=252, close=235, stock_weight=0.006766169154228856), _48=stock(company_name='Henderson, Robinson and Clark', symbol='HEND', open=2650, high=2489, close=2365, stock_weight=0.0031840796019900496), _49=stock(company_name='Kline, Anderson and Medina', symbol='KLIN', open=3775, high=3758, close=3694, stock_weight=0.016318407960199004), _50=stock(company_name='Payne and Sons', symbol='PAYN', open=251, high=239, close=238, stock_weight=0.0005970149253731343), _51=stock(company_name='Miller PLC', symbol='MILL', open=2024, high=2072, close=1896, stock_weight=0.00736318407960199), _52=stock(company_name='Hayes PLC', symbol='HAYE', open=2945, high=2841, close=2731, stock_weight=0.010547263681592041), _53=stock(company_name='Lopez-Watts', symbol='LOPE', open=361, high=384, close=381, stock_weight=0.006567164179104478), _54=stock(company_name='Brown-Knight', symbol='BROW', open=1026, high=976, close=885, stock_weight=0.007562189054726368), _55=stock(company_name='York PLC', symbol='YORK', open=2869, high=2987, close=2929, stock_weight=0.016119402985074627), _56=stock(company_name='Garcia, Carter and Lewis', symbol='GARC', open=605, high=551, close=518, stock_weight=0.011741293532338307), _57=stock(company_name='Brown-Smith', symbol='BROW', open=2888, high=2950, close=2673, stock_weight=0.004776119402985075), _58=stock(company_name='Salas-Allen', symbol='SALA', open=989, high=1029, close=937, stock_weight=0.0013930348258706469), _59=stock(company_name='Chavez PLC', symbol='CHAV', open=1931, high=1876, close=1763, stock_weight=0.001791044776119403), _60=stock(company_name='Wolf-Finley', symbol='WOLF', open=3649, high=3433, close=3422, stock_weight=0.013333333333333334), _61=stock(company_name='Hall and Sons', symbol='HALL', open=1528, high=1406, close=1301, stock_weight=0.0015920398009950248), _62=stock(company_name='Castillo-Barron', symbol='CAST', open=1812, high=1935, close=1905, stock_weight=0.008159203980099502), _63=stock(company_name='Taylor-Grant', symbol='TAYL', open=2770, high=2877, close=2796, stock_weight=0.0023880597014925373), _64=stock(company_name='Brown, Ward and Logan', symbol='BROW', open=1855, high=1779, close=1653, stock_weight=0.005174129353233831), _65=stock(company_name='Myers Ltd', symbol='MYER', open=2170, high=2321, close=2305, stock_weight=0.00736318407960199), _66=stock(company_name='Wilson, Brown and Taylor', symbol='WILS', open=1354, high=1400, close=1371, stock_weight=0.004776119402985075), _67=stock(company_name='Gross, Richardson and Estrada', symbol='GROS', open=299, high=287, close=284, stock_weight=0.011542288557213929), _68=stock(company_name='Anderson LLC', symbol='ANDE', open=276, high=271, close=253, stock_weight=0.006169154228855721), _69=stock(company_name='Burns and Sons', symbol='BURN', open=3797, high=3655, close=3629, stock_weight=0.0029850746268656717), _70=stock(company_name='Morales-Jenkins', symbol='MORA', open=1197, high=1276, close=1162, stock_weight=0.014328358208955224), _71=stock(company_name='Moore Group', symbol='MOOR', open=3866, high=4144, close=4045, stock_weight=0.016517412935323383), _72=stock(company_name='Gutierrez-Reynolds', symbol='GUTI', open=3358, high=3330, close=3112, stock_weight=0.0013930348258706469), _73=stock(company_name='Carpenter Ltd', symbol='CARP', open=716, high=740, close=668, stock_weight=0.0005970149253731343), _74=stock(company_name='Velez-Goodman', symbol='VELE', open=3631, high=3762, close=3527, stock_weight=0.013333333333333334), _75=stock(company_name='Gutierrez Group', symbol='GUTI', open=1664, high=1639, close=1627, stock_weight=0.008159203980099502), _76=stock(company_name='West, Chase and Allen', symbol='WEST', open=2748, high=2740, close=2717, stock_weight=0.016517412935323383), _77=stock(company_name='Anderson-Curry', symbol='ANDE', open=3130, high=3390, close=3254, stock_weight=0.0), _78=stock(company_name='Olson Ltd', symbol='OLSO', open=3700, high=3649, close=3622, stock_weight=0.003781094527363184), _79=stock(company_name='Jenkins, Doyle and Mccarthy', symbol='JENK', open=1331, high=1414, close=1288, stock_weight=0.017114427860696516), _80=stock(company_name='Jordan Inc', symbol='JORD', open=80, high=85, close=83, stock_weight=0.011542288557213929), _81=stock(company_name='Farmer, Vasquez and Johnson', symbol='FARM', open=58, high=52, close=48, stock_weight=0.010547263681592041), _82=stock(company_name='Howard, Sharp and Roman', symbol='HOWA', open=3841, high=3767, close=3697, stock_weight=0.01472636815920398), _83=stock(company_name='Anderson-Freeman', symbol='ANDE', open=1078, high=1131, close=1088, stock_weight=0.017512437810945275), _84=stock(company_name='Singh, Booth and Barton', symbol='SING', open=2447, high=2391, close=2257, stock_weight=0.0191044776119403), _85=stock(company_name='Sellers Inc', symbol='SELL', open=3336, high=3141, close=2914, stock_weight=0.018507462686567167), _86=stock(company_name='Hancock-Jackson', symbol='HANC', open=3330, high=3278, close=2977, stock_weight=0.014925373134328358), _87=stock(company_name='Dougherty and Sons', symbol='DOUG', open=2859, high=2896, close=2665, stock_weight=0.009950248756218905), _88=stock(company_name='Burke, Brooks and Evans', symbol='BURK', open=418, high=410, close=405, stock_weight=0.0053731343283582094), _89=stock(company_name='Campbell Ltd', symbol='CAMP', open=529, high=559, close=504, stock_weight=0.006766169154228856), _90=stock(company_name='Aguirre-Allen', symbol='AGUI', open=1586, high=1514, close=1497, stock_weight=0.016517412935323383), _91=stock(company_name='Mckenzie Inc', symbol='MCKE', open=3175, high=3467, close=3180, stock_weight=0.0013930348258706469), _92=stock(company_name='Alexander Inc', symbol='ALEX', open=2997, high=3203, close=3079, stock_weight=0.014129353233830844), _93=stock(company_name='Tyler Inc', symbol='TYLE', open=2267, high=2446, close=2374, stock_weight=0.006965174129353233), _94=stock(company_name='Carter, Lane and Moreno', symbol='CART', open=2726, high=2828, close=2711, stock_weight=0.006567164179104478), _95=stock(company_name='Cline-Daniels', symbol='CLIN', open=1612, high=1683, close=1668, stock_weight=0.007960199004975126), _96=stock(company_name='Brown-Carson', symbol='BROW', open=127, high=118, close=109, stock_weight=0.011741293532338307), _97=stock(company_name='Bailey PLC', symbol='BAIL', open=3876, high=3576, close=3418, stock_weight=0.01592039800995025), _98=stock(company_name='Patel, Preston and Newman', symbol='PATE', open=2041, high=2113, close=1911, stock_weight=0.016318407960199004), _99=stock(company_name='Brandt PLC', symbol='BRAN', open=2635, high=2633, close=2429, stock_weight=0.019303482587064675))\n"
          ],
          "name": "stdout"
        }
      ]
    },
    {
      "cell_type": "markdown",
      "metadata": {
        "id": "52qLWOiWk0dQ"
      },
      "source": [
        "#### FInally we are going to check market open, high and close price overall below and store it in a named tuple:"
      ]
    },
    {
      "cell_type": "code",
      "metadata": {
        "id": "e8P6Lj_0LN1g",
        "outputId": "121bc0d2-73ab-461d-e5fb-92f56cbcfe07",
        "colab": {
          "base_uri": "https://localhost:8080/",
          "height": 34
        }
      },
      "source": [
        "stock_market_details = namedtuple('stock_market_details','open high close')\n",
        "\n",
        "market_open, market_high, market_close = 0,0,0\n",
        "for i in range(len(ct)):\n",
        "  market_open += (ct[i].open * ct[i].stock_weight)\n",
        "  market_high += (ct[i].high * ct[i].stock_weight)\n",
        "  market_close += (ct[i].close * ct[i].stock_weight)\n",
        "\n",
        "stock_market = stock_market_details(open = market_open, high = market_high, close = market_close) \n",
        "print(stock_market)"
      ],
      "execution_count": 412,
      "outputs": [
        {
          "output_type": "stream",
          "text": [
            "stock_market_details(open=2100.7781094527363, high=2093.2278606965174, close=2002.883383084578)\n"
          ],
          "name": "stdout"
        }
      ]
    },
    {
      "cell_type": "markdown",
      "metadata": {
        "id": "Cq4XdjtLlCve"
      },
      "source": [
        "#### In the above we can see our final namedtuple with market, open high and close price"
      ]
    }
  ]
}